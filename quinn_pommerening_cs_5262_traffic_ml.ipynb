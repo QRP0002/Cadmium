{
  "nbformat": 4,
  "nbformat_minor": 0,
  "metadata": {
    "colab": {
      "name": "quinn-pommerening-cs-5262-traffic-ml.ipynb",
      "provenance": [],
      "toc_visible": true,
      "authorship_tag": "ABX9TyMveWmZbw9D3HZXfZhg43lB",
      "include_colab_link": true
    },
    "kernelspec": {
      "name": "python3",
      "display_name": "Python 3"
    },
    "language_info": {
      "name": "python"
    }
  },
  "cells": [
    {
      "cell_type": "markdown",
      "metadata": {
        "id": "view-in-github",
        "colab_type": "text"
      },
      "source": [
        "<a href=\"https://colab.research.google.com/github/QRP0002/Cadmium/blob/master/quinn_pommerening_cs_5262_traffic_ml.ipynb\" target=\"_parent\"><img src=\"https://colab.research.google.com/assets/colab-badge.svg\" alt=\"Open In Colab\"/></a>"
      ]
    },
    {
      "cell_type": "markdown",
      "source": [
        "# Project Overview\n",
        "\n",
        "## Background\n",
        "\n",
        "One area of interest I have is the building of Smart Cities. Smart Cities allow for a city to improve on different aspects of life within a city by utilizing modern-day technologies. Some of these areas include: real-time traffic monitoring, environmental impacts, citizen quality of life, public safety, and many other sectors. Two of the key ingredients to building Smart Cities are Internet Connectivity (Internet of Things) and Data Analytics. There are plenty of other fields necessary to make Smart Cities work, but these two offer critical roles for improvements within the city. Better connectivity allows for areas to access and send information in modern ways, and data analysis allows for better decision making on this information. This is where Big Data and Machine Learning can be invaluable tools for helping to improve the decisions needed for a city to make better decisions.\n",
        "\n",
        "## Project Description\n",
        "\n",
        "In this project, we are going to be analyzing a set of data from the city of Los Angeles. The dataset deals with traffic collisions in the city from 2010 to the present day. For the sake of this project, we will be using a subset of the data to perform our analysis (100k rows) due to the sheer volume of the original data source. The dataset has several categories for each collision that can be used to analyze the accidents from different angles. Some of the key categories we will be looking into are: date, time, location, and victim demographics. It is possible to model this information in many different ways, but we will only consider a couple of ways.\n",
        "\n",
        "[To view the full set of data](https://data.lacity.org/Public-Safety/Traffic-Collision-Data-from-2010-to-Present/d5tf-ez2w)\n",
        "\n",
        "\n",
        "## Performance Metric\n",
        "\n",
        "The ideal outcome for this project would be the ability of a model to determine hotspots for locations where accidents occur the most. This could help city planners look into why more collisions are occurring at certain locations. Also, having the model break down the information into pieces to answer questions that could come up. At what time of day are the collisions happening? Are certain days worse than others? Are certain demographics responsible for more accidents than others? These are several questions that can be asked, and hopefully solved, with this model."
      ],
      "metadata": {
        "id": "XZaKMG7k9jPW"
      }
    }
  ]
}